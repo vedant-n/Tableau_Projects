{
 "cells": [
  {
   "cell_type": "code",
   "execution_count": 1,
   "metadata": {},
   "outputs": [],
   "source": [
    "import pandas as pd\n",
    "import numpy as np\n",
    "from datetime import datetime, timedelta\n",
    "import random\n"
   ]
  },
  {
   "cell_type": "code",
   "execution_count": 2,
   "metadata": {},
   "outputs": [],
   "source": [
    "# Load the dataset\n",
    "file_path = 'job_descriptions.csv'\n",
    "df = pd.read_csv(file_path)"
   ]
  },
  {
   "cell_type": "code",
   "execution_count": 3,
   "metadata": {},
   "outputs": [
    {
     "data": {
      "text/plain": [
       "Index(['Job Id', 'Experience', 'Qualifications', 'Salary Range', 'location',\n",
       "       'Country', 'latitude', 'longitude', 'Work Type', 'Company Size',\n",
       "       'Job Posting Date', 'Preference', 'Contact Person', 'Contact',\n",
       "       'Job Title', 'Role', 'Job Portal', 'Job Description', 'Benefits',\n",
       "       'skills', 'Responsibilities', 'Company', 'Company Profile'],\n",
       "      dtype='object')"
      ]
     },
     "execution_count": 3,
     "metadata": {},
     "output_type": "execute_result"
    }
   ],
   "source": [
    "df.columns"
   ]
  },
  {
   "cell_type": "code",
   "execution_count": 4,
   "metadata": {},
   "outputs": [],
   "source": [
    "\n",
    "def random_time_12hr():\n",
    "    start_time = datetime.strptime(\"01:00 PM\", \"%I:%M %p\")\n",
    "    end_time = datetime.strptime(\"10:00 PM\", \"%I:%M %p\")\n",
    "    delta = end_time - start_time\n",
    "    int_delta = (delta.days * 24 * 60 * 60) + delta.seconds\n",
    "    random_second = random.randrange(int_delta)\n",
    "    return (start_time + timedelta(seconds=random_second)).strftime(\"%I:%M:%S %p\")\n",
    "\n",
    "# Add a timestamp column with random times in 12-hour format\n",
    "df['Timestamp'] = [random_time_12hr() for _ in range(len(df))]"
   ]
  },
  {
   "cell_type": "code",
   "execution_count": 5,
   "metadata": {},
   "outputs": [],
   "source": [
    "# List of Asian countries\n",
    "asian_countries = [\n",
    "    'China', 'India', 'Japan', 'South Korea', 'Indonesia', 'Pakistan', 'Bangladesh', 'Philippines', \n",
    "    'Vietnam', 'Turkey', 'Iran', 'Thailand', 'Myanmar', 'Sri Lanka', 'Malaysia', 'Nepal', \n",
    "    'Afghanistan', 'North Korea', 'Saudi Arabia', 'Iraq', 'Syria', 'Jordan', 'Lebanon', 'Yemen', \n",
    "    'Oman', 'Qatar', 'Bahrain', 'United Arab Emirates', 'Kuwait', 'Georgia', 'Armenia', 'Azerbaijan', \n",
    "    'Kazakhstan', 'Uzbekistan', 'Turkmenistan', 'Kyrgyzstan', 'Tajikistan', 'Mongolia'\n",
    "]\n",
    "\n",
    "# Add filter_country column\n",
    "df['filter_country'] = df['Country'].apply(lambda x: x if x in asian_countries else np.nan)\n"
   ]
  },
  {
   "cell_type": "code",
   "execution_count": 6,
   "metadata": {},
   "outputs": [],
   "source": [
    "\n",
    "# Save the updated dataset\n",
    "updated_file_path = 'updated_dataset.csv'\n",
    "df.to_csv(updated_file_path, index=False)"
   ]
  }
 ],
 "metadata": {
  "kernelspec": {
   "display_name": "Python 3",
   "language": "python",
   "name": "python3"
  },
  "language_info": {
   "codemirror_mode": {
    "name": "ipython",
    "version": 3
   },
   "file_extension": ".py",
   "mimetype": "text/x-python",
   "name": "python",
   "nbconvert_exporter": "python",
   "pygments_lexer": "ipython3",
   "version": "3.12.2"
  }
 },
 "nbformat": 4,
 "nbformat_minor": 2
}
